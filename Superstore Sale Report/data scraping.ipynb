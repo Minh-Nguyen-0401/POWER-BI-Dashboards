{
 "cells": [
  {
   "cell_type": "code",
   "execution_count": 5,
   "metadata": {},
   "outputs": [],
   "source": [
    "import kaggle\n",
    "import shutil\n",
    "import zipfile"
   ]
  },
  {
   "cell_type": "code",
   "execution_count": 4,
   "metadata": {},
   "outputs": [
    {
     "name": "stdout",
     "output_type": "stream",
     "text": [
      "Downloading superstore-dataset.zip to d:\\Study\\UNIVERSITY\\OTHER COURSES\\random coding\\Portfolio Projects\\VIsualization\\Superstore Dataset"
     ]
    },
    {
     "name": "stderr",
     "output_type": "stream",
     "text": [
      "\n",
      "  0%|          | 0.00/735k [00:00<?, ?B/s]\n",
      "100%|██████████| 735k/735k [00:00<00:00, 875kB/s]\n",
      "100%|██████████| 735k/735k [00:00<00:00, 873kB/s]\n"
     ]
    },
    {
     "name": "stdout",
     "output_type": "stream",
     "text": [
      "\n",
      "\n"
     ]
    }
   ],
   "source": [
    "!kaggle datasets download -d addhyay/superstore-dataset"
   ]
  },
  {
   "cell_type": "code",
   "execution_count": 6,
   "metadata": {},
   "outputs": [],
   "source": [
    "zipfile_name = \"superstore-dataset.zip\"\n",
    "\n",
    "with zipfile.ZipFile(zipfile_name,\"r\") as file:\n",
    "    file.extractall()"
   ]
  },
  {
   "cell_type": "code",
   "execution_count": 7,
   "metadata": {},
   "outputs": [],
   "source": [
    "def move_file_to_folder(source,destination):\n",
    "    shutil.move(source,destination)\n",
    "\n",
    "source = r\"D:\\Study\\UNIVERSITY\\OTHER COURSES\\random coding\\Portfolio Projects\\VIsualization\\Superstore Dataset\\Superstore Dataset.xlsx\"\n",
    "destination = r\"D:\\Study\\UNIVERSITY\\OTHER COURSES\\random coding\\Portfolio Projects\\VIsualization\\Superstore Dataset\\dataset\"\n",
    "\n",
    "move_file_to_folder(source,destination)"
   ]
  }
 ],
 "metadata": {
  "kernelspec": {
   "display_name": "Python 3",
   "language": "python",
   "name": "python3"
  },
  "language_info": {
   "codemirror_mode": {
    "name": "ipython",
    "version": 3
   },
   "file_extension": ".py",
   "mimetype": "text/x-python",
   "name": "python",
   "nbconvert_exporter": "python",
   "pygments_lexer": "ipython3",
   "version": "3.12.2"
  }
 },
 "nbformat": 4,
 "nbformat_minor": 2
}
